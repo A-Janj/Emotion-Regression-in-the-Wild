{
  "nbformat": 4,
  "nbformat_minor": 0,
  "metadata": {
    "colab": {
      "name": "Emotion Regression VGGFace.ipynb",
      "provenance": [],
      "collapsed_sections": [
        "Tqr5WelEKnR2",
        "6kZ6sgzk6vQt",
        "n9UjpLXxK8g6",
        "5cA7GXrZtQs-",
        "KGP30PATfcZq",
        "sONTxo-dPk2W",
        "BetztUtkoUOl",
        "-gm4S-ZqBR5Z",
        "-Qr71aPFPhaD"
      ]
    },
    "kernelspec": {
      "name": "python3",
      "display_name": "Python 3"
    },
    "accelerator": "GPU"
  },
  "cells": [
    {
      "cell_type": "code",
      "metadata": {
        "colab": {
          "base_uri": "https://localhost:8080/"
        },
        "id": "7shih8lGv27R",
        "outputId": "252f2eaa-3814-41b8-b03e-115bbd45af57"
      },
      "source": [
        "print(\"Bismillah\")"
      ],
      "execution_count": 1,
      "outputs": [
        {
          "output_type": "stream",
          "text": [
            "Bismillah\n"
          ],
          "name": "stdout"
        }
      ]
    },
    {
      "cell_type": "markdown",
      "metadata": {
        "id": "6kZ6sgzk6vQt"
      },
      "source": [
        "# **Imports**"
      ]
    },
    {
      "cell_type": "code",
      "metadata": {
        "colab": {
          "base_uri": "https://localhost:8080/"
        },
        "id": "j94fFQu0jEha",
        "outputId": "ac551a77-4616-4057-bd35-30f15c0262b2"
      },
      "source": [
        "!pip install ipython-autotime\r\n",
        "%load_ext autotime"
      ],
      "execution_count": 2,
      "outputs": [
        {
          "output_type": "stream",
          "text": [
            "Collecting ipython-autotime\n",
            "  Downloading https://files.pythonhosted.org/packages/b4/c9/b413a24f759641bc27ef98c144b590023c8038dfb8a3f09e713e9dff12c1/ipython_autotime-0.3.1-py2.py3-none-any.whl\n",
            "Requirement already satisfied: ipython in /usr/local/lib/python3.6/dist-packages (from ipython-autotime) (5.5.0)\n",
            "Requirement already satisfied: simplegeneric>0.8 in /usr/local/lib/python3.6/dist-packages (from ipython->ipython-autotime) (0.8.1)\n",
            "Requirement already satisfied: decorator in /usr/local/lib/python3.6/dist-packages (from ipython->ipython-autotime) (4.4.2)\n",
            "Requirement already satisfied: pygments in /usr/local/lib/python3.6/dist-packages (from ipython->ipython-autotime) (2.6.1)\n",
            "Requirement already satisfied: pickleshare in /usr/local/lib/python3.6/dist-packages (from ipython->ipython-autotime) (0.7.5)\n",
            "Requirement already satisfied: pexpect; sys_platform != \"win32\" in /usr/local/lib/python3.6/dist-packages (from ipython->ipython-autotime) (4.8.0)\n",
            "Requirement already satisfied: traitlets>=4.2 in /usr/local/lib/python3.6/dist-packages (from ipython->ipython-autotime) (4.3.3)\n",
            "Requirement already satisfied: setuptools>=18.5 in /usr/local/lib/python3.6/dist-packages (from ipython->ipython-autotime) (53.0.0)\n",
            "Requirement already satisfied: prompt-toolkit<2.0.0,>=1.0.4 in /usr/local/lib/python3.6/dist-packages (from ipython->ipython-autotime) (1.0.18)\n",
            "Requirement already satisfied: ptyprocess>=0.5 in /usr/local/lib/python3.6/dist-packages (from pexpect; sys_platform != \"win32\"->ipython->ipython-autotime) (0.7.0)\n",
            "Requirement already satisfied: ipython-genutils in /usr/local/lib/python3.6/dist-packages (from traitlets>=4.2->ipython->ipython-autotime) (0.2.0)\n",
            "Requirement already satisfied: six in /usr/local/lib/python3.6/dist-packages (from traitlets>=4.2->ipython->ipython-autotime) (1.15.0)\n",
            "Requirement already satisfied: wcwidth in /usr/local/lib/python3.6/dist-packages (from prompt-toolkit<2.0.0,>=1.0.4->ipython->ipython-autotime) (0.2.5)\n",
            "Installing collected packages: ipython-autotime\n",
            "Successfully installed ipython-autotime-0.3.1\n",
            "time: 142 µs (started: 2021-02-08 22:05:57 +00:00)\n"
          ],
          "name": "stdout"
        }
      ]
    },
    {
      "cell_type": "code",
      "metadata": {
        "id": "8kaOKKtz3Smu",
        "colab": {
          "base_uri": "https://localhost:8080/"
        },
        "outputId": "cf5ca761-1f76-436a-e289-66467964d0d3"
      },
      "source": [
        "# necessary imports\r\n",
        "import os\r\n",
        "import cv2\r\n",
        "import numpy as np\r\n",
        "from imutils import paths\r\n",
        "from sklearn.preprocessing import LabelBinarizer\r\n",
        "from tqdm import tqdm\r\n",
        "\r\n",
        "import matplotlib.pyplot as plt\r\n",
        "%matplotlib inline\r\n",
        "\r\n",
        "from google.colab.patches import cv2_imshow"
      ],
      "execution_count": 3,
      "outputs": [
        {
          "output_type": "stream",
          "text": [
            "time: 1.23 s (started: 2021-02-08 22:05:57 +00:00)\n"
          ],
          "name": "stdout"
        }
      ]
    },
    {
      "cell_type": "markdown",
      "metadata": {
        "id": "oI6Xa_ogljx8"
      },
      "source": [
        "# Initializing"
      ]
    },
    {
      "cell_type": "code",
      "metadata": {
        "colab": {
          "base_uri": "https://localhost:8080/"
        },
        "id": "o9mbQ0xFGMMl",
        "outputId": "4930dd7f-7712-4c98-917b-ae3446229997"
      },
      "source": [
        "img_height = 200\r\n",
        "img_width = 200\r\n",
        "batch_size = 32\r\n",
        "nb_epochs = batch_size\r\n",
        "patience_val = 10\r\n",
        "model_name = \"VGGFace_15000_Onwards_1\"\r\n",
        "cutout_size = 20"
      ],
      "execution_count": 4,
      "outputs": [
        {
          "output_type": "stream",
          "text": [
            "time: 2.68 ms (started: 2021-02-08 22:05:58 +00:00)\n"
          ],
          "name": "stdout"
        }
      ]
    },
    {
      "cell_type": "markdown",
      "metadata": {
        "id": "n9UjpLXxK8g6"
      },
      "source": [
        "# VGG FACE"
      ]
    },
    {
      "cell_type": "code",
      "metadata": {
        "colab": {
          "base_uri": "https://localhost:8080/"
        },
        "id": "KBOEqEaj4sS_",
        "outputId": "1415b988-0602-4e39-b9c3-5e60e3d63e6d"
      },
      "source": [
        "!sudo pip install git+https://github.com/rcmalli/keras-vggface.git"
      ],
      "execution_count": 5,
      "outputs": [
        {
          "output_type": "stream",
          "text": [
            "Collecting git+https://github.com/rcmalli/keras-vggface.git\n",
            "  Cloning https://github.com/rcmalli/keras-vggface.git to /tmp/pip-req-build-5cpgoy8z\n",
            "  Running command git clone -q https://github.com/rcmalli/keras-vggface.git /tmp/pip-req-build-5cpgoy8z\n",
            "Requirement already satisfied: numpy>=1.9.1 in /usr/local/lib/python3.6/dist-packages (from keras-vggface==0.6) (1.19.5)\n",
            "Requirement already satisfied: scipy>=0.14 in /usr/local/lib/python3.6/dist-packages (from keras-vggface==0.6) (1.4.1)\n",
            "Requirement already satisfied: h5py in /usr/local/lib/python3.6/dist-packages (from keras-vggface==0.6) (2.10.0)\n",
            "Requirement already satisfied: pillow in /usr/local/lib/python3.6/dist-packages (from keras-vggface==0.6) (7.0.0)\n",
            "Requirement already satisfied: keras in /usr/local/lib/python3.6/dist-packages (from keras-vggface==0.6) (2.4.3)\n",
            "Requirement already satisfied: six>=1.9.0 in /usr/local/lib/python3.6/dist-packages (from keras-vggface==0.6) (1.15.0)\n",
            "Requirement already satisfied: pyyaml in /usr/local/lib/python3.6/dist-packages (from keras-vggface==0.6) (3.13)\n",
            "Building wheels for collected packages: keras-vggface\n",
            "  Building wheel for keras-vggface (setup.py) ... \u001b[?25l\u001b[?25hdone\n",
            "  Created wheel for keras-vggface: filename=keras_vggface-0.6-cp36-none-any.whl size=8310 sha256=9422f28225937f479eb5b2338238fbe10254c10745ba24613b64e72444b91afb\n",
            "  Stored in directory: /tmp/pip-ephem-wheel-cache-j3jm2w_f/wheels/36/07/46/06c25ce8e9cd396dabe151ea1d8a2bc28dafcb11321c1f3a6d\n",
            "Successfully built keras-vggface\n",
            "Installing collected packages: keras-vggface\n",
            "Successfully installed keras-vggface-0.6\n",
            "time: 4.04 s (started: 2021-02-08 22:05:58 +00:00)\n"
          ],
          "name": "stdout"
        }
      ]
    },
    {
      "cell_type": "code",
      "metadata": {
        "id": "yOLBducQ0-zO",
        "colab": {
          "base_uri": "https://localhost:8080/"
        },
        "outputId": "07f77218-96ad-408f-c3c8-ecb40236a780"
      },
      "source": [
        "!pip install --upgrade keras_applications\r\n",
        "from keras_vggface.vggface import VGGFace\r\n",
        "from keras.models import Model\r\n",
        "from keras.layers import Dense\r\n",
        "\r\n",
        "model = VGGFace(model='senet50', include_top=False, input_shape=(img_width, img_height, 3), pooling='avg')"
      ],
      "execution_count": 6,
      "outputs": [
        {
          "output_type": "stream",
          "text": [
            "Collecting keras_applications\n",
            "\u001b[?25l  Downloading https://files.pythonhosted.org/packages/71/e3/19762fdfc62877ae9102edf6342d71b28fbfd9dea3d2f96a882ce099b03f/Keras_Applications-1.0.8-py3-none-any.whl (50kB)\n",
            "\r\u001b[K     |██████▌                         | 10kB 21.7MB/s eta 0:00:01\r\u001b[K     |█████████████                   | 20kB 28.3MB/s eta 0:00:01\r\u001b[K     |███████████████████▍            | 30kB 20.3MB/s eta 0:00:01\r\u001b[K     |█████████████████████████▉      | 40kB 19.1MB/s eta 0:00:01\r\u001b[K     |████████████████████████████████| 51kB 7.5MB/s \n",
            "\u001b[?25hRequirement already satisfied, skipping upgrade: h5py in /usr/local/lib/python3.6/dist-packages (from keras_applications) (2.10.0)\n",
            "Requirement already satisfied, skipping upgrade: numpy>=1.9.1 in /usr/local/lib/python3.6/dist-packages (from keras_applications) (1.19.5)\n",
            "Requirement already satisfied, skipping upgrade: six in /usr/local/lib/python3.6/dist-packages (from h5py->keras_applications) (1.15.0)\n",
            "Installing collected packages: keras-applications\n",
            "Successfully installed keras-applications-1.0.8\n",
            "Downloading data from https://github.com/rcmalli/keras-vggface/releases/download/v2.0/rcmalli_vggface_tf_notop_senet50.h5\n",
            "104947712/104944616 [==============================] - 2s 0us/step\n",
            "time: 12.9 s (started: 2021-02-08 22:06:02 +00:00)\n"
          ],
          "name": "stdout"
        }
      ]
    },
    {
      "cell_type": "code",
      "metadata": {
        "colab": {
          "base_uri": "https://localhost:8080/"
        },
        "id": "-HF3V3a5MvOy",
        "outputId": "4a94211d-7e84-4eba-c4a9-b88eb796932e"
      },
      "source": [
        "class1 = Dense(1024, activation='relu')(model.layers[-1].output) # add FC layer on last layer\r\n",
        "class2 = Dense(512, activation='relu')(class1) # add FC layer on previous layer\r\n",
        "output = Dense(2)(class2) # add wx+b\r\n",
        "model = Model(inputs=model.inputs, outputs=output)\r\n",
        "model.summary()"
      ],
      "execution_count": 7,
      "outputs": [
        {
          "output_type": "stream",
          "text": [
            "Model: \"model\"\n",
            "__________________________________________________________________________________________________\n",
            "Layer (type)                    Output Shape         Param #     Connected to                     \n",
            "==================================================================================================\n",
            "input_1 (InputLayer)            [(None, 200, 200, 3) 0                                            \n",
            "__________________________________________________________________________________________________\n",
            "conv1/7x7_s2 (Conv2D)           (None, 100, 100, 64) 9408        input_1[0][0]                    \n",
            "__________________________________________________________________________________________________\n",
            "conv1/7x7_s2/bn (BatchNormaliza (None, 100, 100, 64) 256         conv1/7x7_s2[0][0]               \n",
            "__________________________________________________________________________________________________\n",
            "activation (Activation)         (None, 100, 100, 64) 0           conv1/7x7_s2/bn[0][0]            \n",
            "__________________________________________________________________________________________________\n",
            "max_pooling2d (MaxPooling2D)    (None, 49, 49, 64)   0           activation[0][0]                 \n",
            "__________________________________________________________________________________________________\n",
            "conv2_1_1x1_reduce (Conv2D)     (None, 49, 49, 64)   4096        max_pooling2d[0][0]              \n",
            "__________________________________________________________________________________________________\n",
            "conv2_1_1x1_reduce/bn (BatchNor (None, 49, 49, 64)   256         conv2_1_1x1_reduce[0][0]         \n",
            "__________________________________________________________________________________________________\n",
            "activation_1 (Activation)       (None, 49, 49, 64)   0           conv2_1_1x1_reduce/bn[0][0]      \n",
            "__________________________________________________________________________________________________\n",
            "conv2_1_3x3 (Conv2D)            (None, 49, 49, 64)   36864       activation_1[0][0]               \n",
            "__________________________________________________________________________________________________\n",
            "conv2_1_3x3/bn (BatchNormalizat (None, 49, 49, 64)   256         conv2_1_3x3[0][0]                \n",
            "__________________________________________________________________________________________________\n",
            "activation_2 (Activation)       (None, 49, 49, 64)   0           conv2_1_3x3/bn[0][0]             \n",
            "__________________________________________________________________________________________________\n",
            "conv2_1_1x1_increase (Conv2D)   (None, 49, 49, 256)  16384       activation_2[0][0]               \n",
            "__________________________________________________________________________________________________\n",
            "conv2_1_1x1_increase/bn (BatchN (None, 49, 49, 256)  1024        conv2_1_1x1_increase[0][0]       \n",
            "__________________________________________________________________________________________________\n",
            "global_average_pooling2d (Globa (None, 256)          0           conv2_1_1x1_increase/bn[0][0]    \n",
            "__________________________________________________________________________________________________\n",
            "reshape (Reshape)               (None, 1, 1, 256)    0           global_average_pooling2d[0][0]   \n",
            "__________________________________________________________________________________________________\n",
            "conv2_1_1x1_down (Conv2D)       (None, 1, 1, 16)     4112        reshape[0][0]                    \n",
            "__________________________________________________________________________________________________\n",
            "activation_3 (Activation)       (None, 1, 1, 16)     0           conv2_1_1x1_down[0][0]           \n",
            "__________________________________________________________________________________________________\n",
            "conv2_1_1x1_up (Conv2D)         (None, 1, 1, 256)    4352        activation_3[0][0]               \n",
            "__________________________________________________________________________________________________\n",
            "activation_4 (Activation)       (None, 1, 1, 256)    0           conv2_1_1x1_up[0][0]             \n",
            "__________________________________________________________________________________________________\n",
            "conv2_1_1x1_proj (Conv2D)       (None, 49, 49, 256)  16384       max_pooling2d[0][0]              \n",
            "__________________________________________________________________________________________________\n",
            "multiply (Multiply)             (None, 49, 49, 256)  0           conv2_1_1x1_increase/bn[0][0]    \n",
            "                                                                 activation_4[0][0]               \n",
            "__________________________________________________________________________________________________\n",
            "conv2_1_1x1_proj/bn (BatchNorma (None, 49, 49, 256)  1024        conv2_1_1x1_proj[0][0]           \n",
            "__________________________________________________________________________________________________\n",
            "add (Add)                       (None, 49, 49, 256)  0           multiply[0][0]                   \n",
            "                                                                 conv2_1_1x1_proj/bn[0][0]        \n",
            "__________________________________________________________________________________________________\n",
            "activation_5 (Activation)       (None, 49, 49, 256)  0           add[0][0]                        \n",
            "__________________________________________________________________________________________________\n",
            "conv2_2_1x1_reduce (Conv2D)     (None, 49, 49, 64)   16384       activation_5[0][0]               \n",
            "__________________________________________________________________________________________________\n",
            "conv2_2_1x1_reduce/bn (BatchNor (None, 49, 49, 64)   256         conv2_2_1x1_reduce[0][0]         \n",
            "__________________________________________________________________________________________________\n",
            "activation_6 (Activation)       (None, 49, 49, 64)   0           conv2_2_1x1_reduce/bn[0][0]      \n",
            "__________________________________________________________________________________________________\n",
            "conv2_2_3x3 (Conv2D)            (None, 49, 49, 64)   36864       activation_6[0][0]               \n",
            "__________________________________________________________________________________________________\n",
            "conv2_2_3x3/bn (BatchNormalizat (None, 49, 49, 64)   256         conv2_2_3x3[0][0]                \n",
            "__________________________________________________________________________________________________\n",
            "activation_7 (Activation)       (None, 49, 49, 64)   0           conv2_2_3x3/bn[0][0]             \n",
            "__________________________________________________________________________________________________\n",
            "conv2_2_1x1_increase (Conv2D)   (None, 49, 49, 256)  16384       activation_7[0][0]               \n",
            "__________________________________________________________________________________________________\n",
            "conv2_2_1x1_increase/bn (BatchN (None, 49, 49, 256)  1024        conv2_2_1x1_increase[0][0]       \n",
            "__________________________________________________________________________________________________\n",
            "global_average_pooling2d_1 (Glo (None, 256)          0           conv2_2_1x1_increase/bn[0][0]    \n",
            "__________________________________________________________________________________________________\n",
            "reshape_1 (Reshape)             (None, 1, 1, 256)    0           global_average_pooling2d_1[0][0] \n",
            "__________________________________________________________________________________________________\n",
            "conv2_2_1x1_down (Conv2D)       (None, 1, 1, 16)     4112        reshape_1[0][0]                  \n",
            "__________________________________________________________________________________________________\n",
            "activation_8 (Activation)       (None, 1, 1, 16)     0           conv2_2_1x1_down[0][0]           \n",
            "__________________________________________________________________________________________________\n",
            "conv2_2_1x1_up (Conv2D)         (None, 1, 1, 256)    4352        activation_8[0][0]               \n",
            "__________________________________________________________________________________________________\n",
            "activation_9 (Activation)       (None, 1, 1, 256)    0           conv2_2_1x1_up[0][0]             \n",
            "__________________________________________________________________________________________________\n",
            "multiply_1 (Multiply)           (None, 49, 49, 256)  0           conv2_2_1x1_increase/bn[0][0]    \n",
            "                                                                 activation_9[0][0]               \n",
            "__________________________________________________________________________________________________\n",
            "add_1 (Add)                     (None, 49, 49, 256)  0           multiply_1[0][0]                 \n",
            "                                                                 activation_5[0][0]               \n",
            "__________________________________________________________________________________________________\n",
            "activation_10 (Activation)      (None, 49, 49, 256)  0           add_1[0][0]                      \n",
            "__________________________________________________________________________________________________\n",
            "conv2_3_1x1_reduce (Conv2D)     (None, 49, 49, 64)   16384       activation_10[0][0]              \n",
            "__________________________________________________________________________________________________\n",
            "conv2_3_1x1_reduce/bn (BatchNor (None, 49, 49, 64)   256         conv2_3_1x1_reduce[0][0]         \n",
            "__________________________________________________________________________________________________\n",
            "activation_11 (Activation)      (None, 49, 49, 64)   0           conv2_3_1x1_reduce/bn[0][0]      \n",
            "__________________________________________________________________________________________________\n",
            "conv2_3_3x3 (Conv2D)            (None, 49, 49, 64)   36864       activation_11[0][0]              \n",
            "__________________________________________________________________________________________________\n",
            "conv2_3_3x3/bn (BatchNormalizat (None, 49, 49, 64)   256         conv2_3_3x3[0][0]                \n",
            "__________________________________________________________________________________________________\n",
            "activation_12 (Activation)      (None, 49, 49, 64)   0           conv2_3_3x3/bn[0][0]             \n",
            "__________________________________________________________________________________________________\n",
            "conv2_3_1x1_increase (Conv2D)   (None, 49, 49, 256)  16384       activation_12[0][0]              \n",
            "__________________________________________________________________________________________________\n",
            "conv2_3_1x1_increase/bn (BatchN (None, 49, 49, 256)  1024        conv2_3_1x1_increase[0][0]       \n",
            "__________________________________________________________________________________________________\n",
            "global_average_pooling2d_2 (Glo (None, 256)          0           conv2_3_1x1_increase/bn[0][0]    \n",
            "__________________________________________________________________________________________________\n",
            "reshape_2 (Reshape)             (None, 1, 1, 256)    0           global_average_pooling2d_2[0][0] \n",
            "__________________________________________________________________________________________________\n",
            "conv2_3_1x1_down (Conv2D)       (None, 1, 1, 16)     4112        reshape_2[0][0]                  \n",
            "__________________________________________________________________________________________________\n",
            "activation_13 (Activation)      (None, 1, 1, 16)     0           conv2_3_1x1_down[0][0]           \n",
            "__________________________________________________________________________________________________\n",
            "conv2_3_1x1_up (Conv2D)         (None, 1, 1, 256)    4352        activation_13[0][0]              \n",
            "__________________________________________________________________________________________________\n",
            "activation_14 (Activation)      (None, 1, 1, 256)    0           conv2_3_1x1_up[0][0]             \n",
            "__________________________________________________________________________________________________\n",
            "multiply_2 (Multiply)           (None, 49, 49, 256)  0           conv2_3_1x1_increase/bn[0][0]    \n",
            "                                                                 activation_14[0][0]              \n",
            "__________________________________________________________________________________________________\n",
            "add_2 (Add)                     (None, 49, 49, 256)  0           multiply_2[0][0]                 \n",
            "                                                                 activation_10[0][0]              \n",
            "__________________________________________________________________________________________________\n",
            "activation_15 (Activation)      (None, 49, 49, 256)  0           add_2[0][0]                      \n",
            "__________________________________________________________________________________________________\n",
            "conv3_1_1x1_reduce (Conv2D)     (None, 25, 25, 128)  32768       activation_15[0][0]              \n",
            "__________________________________________________________________________________________________\n",
            "conv3_1_1x1_reduce/bn (BatchNor (None, 25, 25, 128)  512         conv3_1_1x1_reduce[0][0]         \n",
            "__________________________________________________________________________________________________\n",
            "activation_16 (Activation)      (None, 25, 25, 128)  0           conv3_1_1x1_reduce/bn[0][0]      \n",
            "__________________________________________________________________________________________________\n",
            "conv3_1_3x3 (Conv2D)            (None, 25, 25, 128)  147456      activation_16[0][0]              \n",
            "__________________________________________________________________________________________________\n",
            "conv3_1_3x3/bn (BatchNormalizat (None, 25, 25, 128)  512         conv3_1_3x3[0][0]                \n",
            "__________________________________________________________________________________________________\n",
            "activation_17 (Activation)      (None, 25, 25, 128)  0           conv3_1_3x3/bn[0][0]             \n",
            "__________________________________________________________________________________________________\n",
            "conv3_1_1x1_increase (Conv2D)   (None, 25, 25, 512)  65536       activation_17[0][0]              \n",
            "__________________________________________________________________________________________________\n",
            "conv3_1_1x1_increase/bn (BatchN (None, 25, 25, 512)  2048        conv3_1_1x1_increase[0][0]       \n",
            "__________________________________________________________________________________________________\n",
            "global_average_pooling2d_3 (Glo (None, 512)          0           conv3_1_1x1_increase/bn[0][0]    \n",
            "__________________________________________________________________________________________________\n",
            "reshape_3 (Reshape)             (None, 1, 1, 512)    0           global_average_pooling2d_3[0][0] \n",
            "__________________________________________________________________________________________________\n",
            "conv3_1_1x1_down (Conv2D)       (None, 1, 1, 32)     16416       reshape_3[0][0]                  \n",
            "__________________________________________________________________________________________________\n",
            "activation_18 (Activation)      (None, 1, 1, 32)     0           conv3_1_1x1_down[0][0]           \n",
            "__________________________________________________________________________________________________\n",
            "conv3_1_1x1_up (Conv2D)         (None, 1, 1, 512)    16896       activation_18[0][0]              \n",
            "__________________________________________________________________________________________________\n",
            "activation_19 (Activation)      (None, 1, 1, 512)    0           conv3_1_1x1_up[0][0]             \n",
            "__________________________________________________________________________________________________\n",
            "conv3_1_1x1_proj (Conv2D)       (None, 25, 25, 512)  131072      activation_15[0][0]              \n",
            "__________________________________________________________________________________________________\n",
            "multiply_3 (Multiply)           (None, 25, 25, 512)  0           conv3_1_1x1_increase/bn[0][0]    \n",
            "                                                                 activation_19[0][0]              \n",
            "__________________________________________________________________________________________________\n",
            "conv3_1_1x1_proj/bn (BatchNorma (None, 25, 25, 512)  2048        conv3_1_1x1_proj[0][0]           \n",
            "__________________________________________________________________________________________________\n",
            "add_3 (Add)                     (None, 25, 25, 512)  0           multiply_3[0][0]                 \n",
            "                                                                 conv3_1_1x1_proj/bn[0][0]        \n",
            "__________________________________________________________________________________________________\n",
            "activation_20 (Activation)      (None, 25, 25, 512)  0           add_3[0][0]                      \n",
            "__________________________________________________________________________________________________\n",
            "conv3_2_1x1_reduce (Conv2D)     (None, 25, 25, 128)  65536       activation_20[0][0]              \n",
            "__________________________________________________________________________________________________\n",
            "conv3_2_1x1_reduce/bn (BatchNor (None, 25, 25, 128)  512         conv3_2_1x1_reduce[0][0]         \n",
            "__________________________________________________________________________________________________\n",
            "activation_21 (Activation)      (None, 25, 25, 128)  0           conv3_2_1x1_reduce/bn[0][0]      \n",
            "__________________________________________________________________________________________________\n",
            "conv3_2_3x3 (Conv2D)            (None, 25, 25, 128)  147456      activation_21[0][0]              \n",
            "__________________________________________________________________________________________________\n",
            "conv3_2_3x3/bn (BatchNormalizat (None, 25, 25, 128)  512         conv3_2_3x3[0][0]                \n",
            "__________________________________________________________________________________________________\n",
            "activation_22 (Activation)      (None, 25, 25, 128)  0           conv3_2_3x3/bn[0][0]             \n",
            "__________________________________________________________________________________________________\n",
            "conv3_2_1x1_increase (Conv2D)   (None, 25, 25, 512)  65536       activation_22[0][0]              \n",
            "__________________________________________________________________________________________________\n",
            "conv3_2_1x1_increase/bn (BatchN (None, 25, 25, 512)  2048        conv3_2_1x1_increase[0][0]       \n",
            "__________________________________________________________________________________________________\n",
            "global_average_pooling2d_4 (Glo (None, 512)          0           conv3_2_1x1_increase/bn[0][0]    \n",
            "__________________________________________________________________________________________________\n",
            "reshape_4 (Reshape)             (None, 1, 1, 512)    0           global_average_pooling2d_4[0][0] \n",
            "__________________________________________________________________________________________________\n",
            "conv3_2_1x1_down (Conv2D)       (None, 1, 1, 32)     16416       reshape_4[0][0]                  \n",
            "__________________________________________________________________________________________________\n",
            "activation_23 (Activation)      (None, 1, 1, 32)     0           conv3_2_1x1_down[0][0]           \n",
            "__________________________________________________________________________________________________\n",
            "conv3_2_1x1_up (Conv2D)         (None, 1, 1, 512)    16896       activation_23[0][0]              \n",
            "__________________________________________________________________________________________________\n",
            "activation_24 (Activation)      (None, 1, 1, 512)    0           conv3_2_1x1_up[0][0]             \n",
            "__________________________________________________________________________________________________\n",
            "multiply_4 (Multiply)           (None, 25, 25, 512)  0           conv3_2_1x1_increase/bn[0][0]    \n",
            "                                                                 activation_24[0][0]              \n",
            "__________________________________________________________________________________________________\n",
            "add_4 (Add)                     (None, 25, 25, 512)  0           multiply_4[0][0]                 \n",
            "                                                                 activation_20[0][0]              \n",
            "__________________________________________________________________________________________________\n",
            "activation_25 (Activation)      (None, 25, 25, 512)  0           add_4[0][0]                      \n",
            "__________________________________________________________________________________________________\n",
            "conv3_3_1x1_reduce (Conv2D)     (None, 25, 25, 128)  65536       activation_25[0][0]              \n",
            "__________________________________________________________________________________________________\n",
            "conv3_3_1x1_reduce/bn (BatchNor (None, 25, 25, 128)  512         conv3_3_1x1_reduce[0][0]         \n",
            "__________________________________________________________________________________________________\n",
            "activation_26 (Activation)      (None, 25, 25, 128)  0           conv3_3_1x1_reduce/bn[0][0]      \n",
            "__________________________________________________________________________________________________\n",
            "conv3_3_3x3 (Conv2D)            (None, 25, 25, 128)  147456      activation_26[0][0]              \n",
            "__________________________________________________________________________________________________\n",
            "conv3_3_3x3/bn (BatchNormalizat (None, 25, 25, 128)  512         conv3_3_3x3[0][0]                \n",
            "__________________________________________________________________________________________________\n",
            "activation_27 (Activation)      (None, 25, 25, 128)  0           conv3_3_3x3/bn[0][0]             \n",
            "__________________________________________________________________________________________________\n",
            "conv3_3_1x1_increase (Conv2D)   (None, 25, 25, 512)  65536       activation_27[0][0]              \n",
            "__________________________________________________________________________________________________\n",
            "conv3_3_1x1_increase/bn (BatchN (None, 25, 25, 512)  2048        conv3_3_1x1_increase[0][0]       \n",
            "__________________________________________________________________________________________________\n",
            "global_average_pooling2d_5 (Glo (None, 512)          0           conv3_3_1x1_increase/bn[0][0]    \n",
            "__________________________________________________________________________________________________\n",
            "reshape_5 (Reshape)             (None, 1, 1, 512)    0           global_average_pooling2d_5[0][0] \n",
            "__________________________________________________________________________________________________\n",
            "conv3_3_1x1_down (Conv2D)       (None, 1, 1, 32)     16416       reshape_5[0][0]                  \n",
            "__________________________________________________________________________________________________\n",
            "activation_28 (Activation)      (None, 1, 1, 32)     0           conv3_3_1x1_down[0][0]           \n",
            "__________________________________________________________________________________________________\n",
            "conv3_3_1x1_up (Conv2D)         (None, 1, 1, 512)    16896       activation_28[0][0]              \n",
            "__________________________________________________________________________________________________\n",
            "activation_29 (Activation)      (None, 1, 1, 512)    0           conv3_3_1x1_up[0][0]             \n",
            "__________________________________________________________________________________________________\n",
            "multiply_5 (Multiply)           (None, 25, 25, 512)  0           conv3_3_1x1_increase/bn[0][0]    \n",
            "                                                                 activation_29[0][0]              \n",
            "__________________________________________________________________________________________________\n",
            "add_5 (Add)                     (None, 25, 25, 512)  0           multiply_5[0][0]                 \n",
            "                                                                 activation_25[0][0]              \n",
            "__________________________________________________________________________________________________\n",
            "activation_30 (Activation)      (None, 25, 25, 512)  0           add_5[0][0]                      \n",
            "__________________________________________________________________________________________________\n",
            "conv3_4_1x1_reduce (Conv2D)     (None, 25, 25, 128)  65536       activation_30[0][0]              \n",
            "__________________________________________________________________________________________________\n",
            "conv3_4_1x1_reduce/bn (BatchNor (None, 25, 25, 128)  512         conv3_4_1x1_reduce[0][0]         \n",
            "__________________________________________________________________________________________________\n",
            "activation_31 (Activation)      (None, 25, 25, 128)  0           conv3_4_1x1_reduce/bn[0][0]      \n",
            "__________________________________________________________________________________________________\n",
            "conv3_4_3x3 (Conv2D)            (None, 25, 25, 128)  147456      activation_31[0][0]              \n",
            "__________________________________________________________________________________________________\n",
            "conv3_4_3x3/bn (BatchNormalizat (None, 25, 25, 128)  512         conv3_4_3x3[0][0]                \n",
            "__________________________________________________________________________________________________\n",
            "activation_32 (Activation)      (None, 25, 25, 128)  0           conv3_4_3x3/bn[0][0]             \n",
            "__________________________________________________________________________________________________\n",
            "conv3_4_1x1_increase (Conv2D)   (None, 25, 25, 512)  65536       activation_32[0][0]              \n",
            "__________________________________________________________________________________________________\n",
            "conv3_4_1x1_increase/bn (BatchN (None, 25, 25, 512)  2048        conv3_4_1x1_increase[0][0]       \n",
            "__________________________________________________________________________________________________\n",
            "global_average_pooling2d_6 (Glo (None, 512)          0           conv3_4_1x1_increase/bn[0][0]    \n",
            "__________________________________________________________________________________________________\n",
            "reshape_6 (Reshape)             (None, 1, 1, 512)    0           global_average_pooling2d_6[0][0] \n",
            "__________________________________________________________________________________________________\n",
            "conv3_4_1x1_down (Conv2D)       (None, 1, 1, 32)     16416       reshape_6[0][0]                  \n",
            "__________________________________________________________________________________________________\n",
            "activation_33 (Activation)      (None, 1, 1, 32)     0           conv3_4_1x1_down[0][0]           \n",
            "__________________________________________________________________________________________________\n",
            "conv3_4_1x1_up (Conv2D)         (None, 1, 1, 512)    16896       activation_33[0][0]              \n",
            "__________________________________________________________________________________________________\n",
            "activation_34 (Activation)      (None, 1, 1, 512)    0           conv3_4_1x1_up[0][0]             \n",
            "__________________________________________________________________________________________________\n",
            "multiply_6 (Multiply)           (None, 25, 25, 512)  0           conv3_4_1x1_increase/bn[0][0]    \n",
            "                                                                 activation_34[0][0]              \n",
            "__________________________________________________________________________________________________\n",
            "add_6 (Add)                     (None, 25, 25, 512)  0           multiply_6[0][0]                 \n",
            "                                                                 activation_30[0][0]              \n",
            "__________________________________________________________________________________________________\n",
            "activation_35 (Activation)      (None, 25, 25, 512)  0           add_6[0][0]                      \n",
            "__________________________________________________________________________________________________\n",
            "conv4_1_1x1_reduce (Conv2D)     (None, 13, 13, 256)  131072      activation_35[0][0]              \n",
            "__________________________________________________________________________________________________\n",
            "conv4_1_1x1_reduce/bn (BatchNor (None, 13, 13, 256)  1024        conv4_1_1x1_reduce[0][0]         \n",
            "__________________________________________________________________________________________________\n",
            "activation_36 (Activation)      (None, 13, 13, 256)  0           conv4_1_1x1_reduce/bn[0][0]      \n",
            "__________________________________________________________________________________________________\n",
            "conv4_1_3x3 (Conv2D)            (None, 13, 13, 256)  589824      activation_36[0][0]              \n",
            "__________________________________________________________________________________________________\n",
            "conv4_1_3x3/bn (BatchNormalizat (None, 13, 13, 256)  1024        conv4_1_3x3[0][0]                \n",
            "__________________________________________________________________________________________________\n",
            "activation_37 (Activation)      (None, 13, 13, 256)  0           conv4_1_3x3/bn[0][0]             \n",
            "__________________________________________________________________________________________________\n",
            "conv4_1_1x1_increase (Conv2D)   (None, 13, 13, 1024) 262144      activation_37[0][0]              \n",
            "__________________________________________________________________________________________________\n",
            "conv4_1_1x1_increase/bn (BatchN (None, 13, 13, 1024) 4096        conv4_1_1x1_increase[0][0]       \n",
            "__________________________________________________________________________________________________\n",
            "global_average_pooling2d_7 (Glo (None, 1024)         0           conv4_1_1x1_increase/bn[0][0]    \n",
            "__________________________________________________________________________________________________\n",
            "reshape_7 (Reshape)             (None, 1, 1, 1024)   0           global_average_pooling2d_7[0][0] \n",
            "__________________________________________________________________________________________________\n",
            "conv4_1_1x1_down (Conv2D)       (None, 1, 1, 64)     65600       reshape_7[0][0]                  \n",
            "__________________________________________________________________________________________________\n",
            "activation_38 (Activation)      (None, 1, 1, 64)     0           conv4_1_1x1_down[0][0]           \n",
            "__________________________________________________________________________________________________\n",
            "conv4_1_1x1_up (Conv2D)         (None, 1, 1, 1024)   66560       activation_38[0][0]              \n",
            "__________________________________________________________________________________________________\n",
            "activation_39 (Activation)      (None, 1, 1, 1024)   0           conv4_1_1x1_up[0][0]             \n",
            "__________________________________________________________________________________________________\n",
            "conv4_1_1x1_proj (Conv2D)       (None, 13, 13, 1024) 524288      activation_35[0][0]              \n",
            "__________________________________________________________________________________________________\n",
            "multiply_7 (Multiply)           (None, 13, 13, 1024) 0           conv4_1_1x1_increase/bn[0][0]    \n",
            "                                                                 activation_39[0][0]              \n",
            "__________________________________________________________________________________________________\n",
            "conv4_1_1x1_proj/bn (BatchNorma (None, 13, 13, 1024) 4096        conv4_1_1x1_proj[0][0]           \n",
            "__________________________________________________________________________________________________\n",
            "add_7 (Add)                     (None, 13, 13, 1024) 0           multiply_7[0][0]                 \n",
            "                                                                 conv4_1_1x1_proj/bn[0][0]        \n",
            "__________________________________________________________________________________________________\n",
            "activation_40 (Activation)      (None, 13, 13, 1024) 0           add_7[0][0]                      \n",
            "__________________________________________________________________________________________________\n",
            "conv4_2_1x1_reduce (Conv2D)     (None, 13, 13, 256)  262144      activation_40[0][0]              \n",
            "__________________________________________________________________________________________________\n",
            "conv4_2_1x1_reduce/bn (BatchNor (None, 13, 13, 256)  1024        conv4_2_1x1_reduce[0][0]         \n",
            "__________________________________________________________________________________________________\n",
            "activation_41 (Activation)      (None, 13, 13, 256)  0           conv4_2_1x1_reduce/bn[0][0]      \n",
            "__________________________________________________________________________________________________\n",
            "conv4_2_3x3 (Conv2D)            (None, 13, 13, 256)  589824      activation_41[0][0]              \n",
            "__________________________________________________________________________________________________\n",
            "conv4_2_3x3/bn (BatchNormalizat (None, 13, 13, 256)  1024        conv4_2_3x3[0][0]                \n",
            "__________________________________________________________________________________________________\n",
            "activation_42 (Activation)      (None, 13, 13, 256)  0           conv4_2_3x3/bn[0][0]             \n",
            "__________________________________________________________________________________________________\n",
            "conv4_2_1x1_increase (Conv2D)   (None, 13, 13, 1024) 262144      activation_42[0][0]              \n",
            "__________________________________________________________________________________________________\n",
            "conv4_2_1x1_increase/bn (BatchN (None, 13, 13, 1024) 4096        conv4_2_1x1_increase[0][0]       \n",
            "__________________________________________________________________________________________________\n",
            "global_average_pooling2d_8 (Glo (None, 1024)         0           conv4_2_1x1_increase/bn[0][0]    \n",
            "__________________________________________________________________________________________________\n",
            "reshape_8 (Reshape)             (None, 1, 1, 1024)   0           global_average_pooling2d_8[0][0] \n",
            "__________________________________________________________________________________________________\n",
            "conv4_2_1x1_down (Conv2D)       (None, 1, 1, 64)     65600       reshape_8[0][0]                  \n",
            "__________________________________________________________________________________________________\n",
            "activation_43 (Activation)      (None, 1, 1, 64)     0           conv4_2_1x1_down[0][0]           \n",
            "__________________________________________________________________________________________________\n",
            "conv4_2_1x1_up (Conv2D)         (None, 1, 1, 1024)   66560       activation_43[0][0]              \n",
            "__________________________________________________________________________________________________\n",
            "activation_44 (Activation)      (None, 1, 1, 1024)   0           conv4_2_1x1_up[0][0]             \n",
            "__________________________________________________________________________________________________\n",
            "multiply_8 (Multiply)           (None, 13, 13, 1024) 0           conv4_2_1x1_increase/bn[0][0]    \n",
            "                                                                 activation_44[0][0]              \n",
            "__________________________________________________________________________________________________\n",
            "add_8 (Add)                     (None, 13, 13, 1024) 0           multiply_8[0][0]                 \n",
            "                                                                 activation_40[0][0]              \n",
            "__________________________________________________________________________________________________\n",
            "activation_45 (Activation)      (None, 13, 13, 1024) 0           add_8[0][0]                      \n",
            "__________________________________________________________________________________________________\n",
            "conv4_3_1x1_reduce (Conv2D)     (None, 13, 13, 256)  262144      activation_45[0][0]              \n",
            "__________________________________________________________________________________________________\n",
            "conv4_3_1x1_reduce/bn (BatchNor (None, 13, 13, 256)  1024        conv4_3_1x1_reduce[0][0]         \n",
            "__________________________________________________________________________________________________\n",
            "activation_46 (Activation)      (None, 13, 13, 256)  0           conv4_3_1x1_reduce/bn[0][0]      \n",
            "__________________________________________________________________________________________________\n",
            "conv4_3_3x3 (Conv2D)            (None, 13, 13, 256)  589824      activation_46[0][0]              \n",
            "__________________________________________________________________________________________________\n",
            "conv4_3_3x3/bn (BatchNormalizat (None, 13, 13, 256)  1024        conv4_3_3x3[0][0]                \n",
            "__________________________________________________________________________________________________\n",
            "activation_47 (Activation)      (None, 13, 13, 256)  0           conv4_3_3x3/bn[0][0]             \n",
            "__________________________________________________________________________________________________\n",
            "conv4_3_1x1_increase (Conv2D)   (None, 13, 13, 1024) 262144      activation_47[0][0]              \n",
            "__________________________________________________________________________________________________\n",
            "conv4_3_1x1_increase/bn (BatchN (None, 13, 13, 1024) 4096        conv4_3_1x1_increase[0][0]       \n",
            "__________________________________________________________________________________________________\n",
            "global_average_pooling2d_9 (Glo (None, 1024)         0           conv4_3_1x1_increase/bn[0][0]    \n",
            "__________________________________________________________________________________________________\n",
            "reshape_9 (Reshape)             (None, 1, 1, 1024)   0           global_average_pooling2d_9[0][0] \n",
            "__________________________________________________________________________________________________\n",
            "conv4_3_1x1_down (Conv2D)       (None, 1, 1, 64)     65600       reshape_9[0][0]                  \n",
            "__________________________________________________________________________________________________\n",
            "activation_48 (Activation)      (None, 1, 1, 64)     0           conv4_3_1x1_down[0][0]           \n",
            "__________________________________________________________________________________________________\n",
            "conv4_3_1x1_up (Conv2D)         (None, 1, 1, 1024)   66560       activation_48[0][0]              \n",
            "__________________________________________________________________________________________________\n",
            "activation_49 (Activation)      (None, 1, 1, 1024)   0           conv4_3_1x1_up[0][0]             \n",
            "__________________________________________________________________________________________________\n",
            "multiply_9 (Multiply)           (None, 13, 13, 1024) 0           conv4_3_1x1_increase/bn[0][0]    \n",
            "                                                                 activation_49[0][0]              \n",
            "__________________________________________________________________________________________________\n",
            "add_9 (Add)                     (None, 13, 13, 1024) 0           multiply_9[0][0]                 \n",
            "                                                                 activation_45[0][0]              \n",
            "__________________________________________________________________________________________________\n",
            "activation_50 (Activation)      (None, 13, 13, 1024) 0           add_9[0][0]                      \n",
            "__________________________________________________________________________________________________\n",
            "conv4_4_1x1_reduce (Conv2D)     (None, 13, 13, 256)  262144      activation_50[0][0]              \n",
            "__________________________________________________________________________________________________\n",
            "conv4_4_1x1_reduce/bn (BatchNor (None, 13, 13, 256)  1024        conv4_4_1x1_reduce[0][0]         \n",
            "__________________________________________________________________________________________________\n",
            "activation_51 (Activation)      (None, 13, 13, 256)  0           conv4_4_1x1_reduce/bn[0][0]      \n",
            "__________________________________________________________________________________________________\n",
            "conv4_4_3x3 (Conv2D)            (None, 13, 13, 256)  589824      activation_51[0][0]              \n",
            "__________________________________________________________________________________________________\n",
            "conv4_4_3x3/bn (BatchNormalizat (None, 13, 13, 256)  1024        conv4_4_3x3[0][0]                \n",
            "__________________________________________________________________________________________________\n",
            "activation_52 (Activation)      (None, 13, 13, 256)  0           conv4_4_3x3/bn[0][0]             \n",
            "__________________________________________________________________________________________________\n",
            "conv4_4_1x1_increase (Conv2D)   (None, 13, 13, 1024) 262144      activation_52[0][0]              \n",
            "__________________________________________________________________________________________________\n",
            "conv4_4_1x1_increase/bn (BatchN (None, 13, 13, 1024) 4096        conv4_4_1x1_increase[0][0]       \n",
            "__________________________________________________________________________________________________\n",
            "global_average_pooling2d_10 (Gl (None, 1024)         0           conv4_4_1x1_increase/bn[0][0]    \n",
            "__________________________________________________________________________________________________\n",
            "reshape_10 (Reshape)            (None, 1, 1, 1024)   0           global_average_pooling2d_10[0][0]\n",
            "__________________________________________________________________________________________________\n",
            "conv4_4_1x1_down (Conv2D)       (None, 1, 1, 64)     65600       reshape_10[0][0]                 \n",
            "__________________________________________________________________________________________________\n",
            "activation_53 (Activation)      (None, 1, 1, 64)     0           conv4_4_1x1_down[0][0]           \n",
            "__________________________________________________________________________________________________\n",
            "conv4_4_1x1_up (Conv2D)         (None, 1, 1, 1024)   66560       activation_53[0][0]              \n",
            "__________________________________________________________________________________________________\n",
            "activation_54 (Activation)      (None, 1, 1, 1024)   0           conv4_4_1x1_up[0][0]             \n",
            "__________________________________________________________________________________________________\n",
            "multiply_10 (Multiply)          (None, 13, 13, 1024) 0           conv4_4_1x1_increase/bn[0][0]    \n",
            "                                                                 activation_54[0][0]              \n",
            "__________________________________________________________________________________________________\n",
            "add_10 (Add)                    (None, 13, 13, 1024) 0           multiply_10[0][0]                \n",
            "                                                                 activation_50[0][0]              \n",
            "__________________________________________________________________________________________________\n",
            "activation_55 (Activation)      (None, 13, 13, 1024) 0           add_10[0][0]                     \n",
            "__________________________________________________________________________________________________\n",
            "conv4_5_1x1_reduce (Conv2D)     (None, 13, 13, 256)  262144      activation_55[0][0]              \n",
            "__________________________________________________________________________________________________\n",
            "conv4_5_1x1_reduce/bn (BatchNor (None, 13, 13, 256)  1024        conv4_5_1x1_reduce[0][0]         \n",
            "__________________________________________________________________________________________________\n",
            "activation_56 (Activation)      (None, 13, 13, 256)  0           conv4_5_1x1_reduce/bn[0][0]      \n",
            "__________________________________________________________________________________________________\n",
            "conv4_5_3x3 (Conv2D)            (None, 13, 13, 256)  589824      activation_56[0][0]              \n",
            "__________________________________________________________________________________________________\n",
            "conv4_5_3x3/bn (BatchNormalizat (None, 13, 13, 256)  1024        conv4_5_3x3[0][0]                \n",
            "__________________________________________________________________________________________________\n",
            "activation_57 (Activation)      (None, 13, 13, 256)  0           conv4_5_3x3/bn[0][0]             \n",
            "__________________________________________________________________________________________________\n",
            "conv4_5_1x1_increase (Conv2D)   (None, 13, 13, 1024) 262144      activation_57[0][0]              \n",
            "__________________________________________________________________________________________________\n",
            "conv4_5_1x1_increase/bn (BatchN (None, 13, 13, 1024) 4096        conv4_5_1x1_increase[0][0]       \n",
            "__________________________________________________________________________________________________\n",
            "global_average_pooling2d_11 (Gl (None, 1024)         0           conv4_5_1x1_increase/bn[0][0]    \n",
            "__________________________________________________________________________________________________\n",
            "reshape_11 (Reshape)            (None, 1, 1, 1024)   0           global_average_pooling2d_11[0][0]\n",
            "__________________________________________________________________________________________________\n",
            "conv4_5_1x1_down (Conv2D)       (None, 1, 1, 64)     65600       reshape_11[0][0]                 \n",
            "__________________________________________________________________________________________________\n",
            "activation_58 (Activation)      (None, 1, 1, 64)     0           conv4_5_1x1_down[0][0]           \n",
            "__________________________________________________________________________________________________\n",
            "conv4_5_1x1_up (Conv2D)         (None, 1, 1, 1024)   66560       activation_58[0][0]              \n",
            "__________________________________________________________________________________________________\n",
            "activation_59 (Activation)      (None, 1, 1, 1024)   0           conv4_5_1x1_up[0][0]             \n",
            "__________________________________________________________________________________________________\n",
            "multiply_11 (Multiply)          (None, 13, 13, 1024) 0           conv4_5_1x1_increase/bn[0][0]    \n",
            "                                                                 activation_59[0][0]              \n",
            "__________________________________________________________________________________________________\n",
            "add_11 (Add)                    (None, 13, 13, 1024) 0           multiply_11[0][0]                \n",
            "                                                                 activation_55[0][0]              \n",
            "__________________________________________________________________________________________________\n",
            "activation_60 (Activation)      (None, 13, 13, 1024) 0           add_11[0][0]                     \n",
            "__________________________________________________________________________________________________\n",
            "conv4_6_1x1_reduce (Conv2D)     (None, 13, 13, 256)  262144      activation_60[0][0]              \n",
            "__________________________________________________________________________________________________\n",
            "conv4_6_1x1_reduce/bn (BatchNor (None, 13, 13, 256)  1024        conv4_6_1x1_reduce[0][0]         \n",
            "__________________________________________________________________________________________________\n",
            "activation_61 (Activation)      (None, 13, 13, 256)  0           conv4_6_1x1_reduce/bn[0][0]      \n",
            "__________________________________________________________________________________________________\n",
            "conv4_6_3x3 (Conv2D)            (None, 13, 13, 256)  589824      activation_61[0][0]              \n",
            "__________________________________________________________________________________________________\n",
            "conv4_6_3x3/bn (BatchNormalizat (None, 13, 13, 256)  1024        conv4_6_3x3[0][0]                \n",
            "__________________________________________________________________________________________________\n",
            "activation_62 (Activation)      (None, 13, 13, 256)  0           conv4_6_3x3/bn[0][0]             \n",
            "__________________________________________________________________________________________________\n",
            "conv4_6_1x1_increase (Conv2D)   (None, 13, 13, 1024) 262144      activation_62[0][0]              \n",
            "__________________________________________________________________________________________________\n",
            "conv4_6_1x1_increase/bn (BatchN (None, 13, 13, 1024) 4096        conv4_6_1x1_increase[0][0]       \n",
            "__________________________________________________________________________________________________\n",
            "global_average_pooling2d_12 (Gl (None, 1024)         0           conv4_6_1x1_increase/bn[0][0]    \n",
            "__________________________________________________________________________________________________\n",
            "reshape_12 (Reshape)            (None, 1, 1, 1024)   0           global_average_pooling2d_12[0][0]\n",
            "__________________________________________________________________________________________________\n",
            "conv4_6_1x1_down (Conv2D)       (None, 1, 1, 64)     65600       reshape_12[0][0]                 \n",
            "__________________________________________________________________________________________________\n",
            "activation_63 (Activation)      (None, 1, 1, 64)     0           conv4_6_1x1_down[0][0]           \n",
            "__________________________________________________________________________________________________\n",
            "conv4_6_1x1_up (Conv2D)         (None, 1, 1, 1024)   66560       activation_63[0][0]              \n",
            "__________________________________________________________________________________________________\n",
            "activation_64 (Activation)      (None, 1, 1, 1024)   0           conv4_6_1x1_up[0][0]             \n",
            "__________________________________________________________________________________________________\n",
            "multiply_12 (Multiply)          (None, 13, 13, 1024) 0           conv4_6_1x1_increase/bn[0][0]    \n",
            "                                                                 activation_64[0][0]              \n",
            "__________________________________________________________________________________________________\n",
            "add_12 (Add)                    (None, 13, 13, 1024) 0           multiply_12[0][0]                \n",
            "                                                                 activation_60[0][0]              \n",
            "__________________________________________________________________________________________________\n",
            "activation_65 (Activation)      (None, 13, 13, 1024) 0           add_12[0][0]                     \n",
            "__________________________________________________________________________________________________\n",
            "conv5_1_1x1_reduce (Conv2D)     (None, 7, 7, 512)    524288      activation_65[0][0]              \n",
            "__________________________________________________________________________________________________\n",
            "conv5_1_1x1_reduce/bn (BatchNor (None, 7, 7, 512)    2048        conv5_1_1x1_reduce[0][0]         \n",
            "__________________________________________________________________________________________________\n",
            "activation_66 (Activation)      (None, 7, 7, 512)    0           conv5_1_1x1_reduce/bn[0][0]      \n",
            "__________________________________________________________________________________________________\n",
            "conv5_1_3x3 (Conv2D)            (None, 7, 7, 512)    2359296     activation_66[0][0]              \n",
            "__________________________________________________________________________________________________\n",
            "conv5_1_3x3/bn (BatchNormalizat (None, 7, 7, 512)    2048        conv5_1_3x3[0][0]                \n",
            "__________________________________________________________________________________________________\n",
            "activation_67 (Activation)      (None, 7, 7, 512)    0           conv5_1_3x3/bn[0][0]             \n",
            "__________________________________________________________________________________________________\n",
            "conv5_1_1x1_increase (Conv2D)   (None, 7, 7, 2048)   1048576     activation_67[0][0]              \n",
            "__________________________________________________________________________________________________\n",
            "conv5_1_1x1_increase/bn (BatchN (None, 7, 7, 2048)   8192        conv5_1_1x1_increase[0][0]       \n",
            "__________________________________________________________________________________________________\n",
            "global_average_pooling2d_13 (Gl (None, 2048)         0           conv5_1_1x1_increase/bn[0][0]    \n",
            "__________________________________________________________________________________________________\n",
            "reshape_13 (Reshape)            (None, 1, 1, 2048)   0           global_average_pooling2d_13[0][0]\n",
            "__________________________________________________________________________________________________\n",
            "conv5_1_1x1_down (Conv2D)       (None, 1, 1, 128)    262272      reshape_13[0][0]                 \n",
            "__________________________________________________________________________________________________\n",
            "activation_68 (Activation)      (None, 1, 1, 128)    0           conv5_1_1x1_down[0][0]           \n",
            "__________________________________________________________________________________________________\n",
            "conv5_1_1x1_up (Conv2D)         (None, 1, 1, 2048)   264192      activation_68[0][0]              \n",
            "__________________________________________________________________________________________________\n",
            "activation_69 (Activation)      (None, 1, 1, 2048)   0           conv5_1_1x1_up[0][0]             \n",
            "__________________________________________________________________________________________________\n",
            "conv5_1_1x1_proj (Conv2D)       (None, 7, 7, 2048)   2097152     activation_65[0][0]              \n",
            "__________________________________________________________________________________________________\n",
            "multiply_13 (Multiply)          (None, 7, 7, 2048)   0           conv5_1_1x1_increase/bn[0][0]    \n",
            "                                                                 activation_69[0][0]              \n",
            "__________________________________________________________________________________________________\n",
            "conv5_1_1x1_proj/bn (BatchNorma (None, 7, 7, 2048)   8192        conv5_1_1x1_proj[0][0]           \n",
            "__________________________________________________________________________________________________\n",
            "add_13 (Add)                    (None, 7, 7, 2048)   0           multiply_13[0][0]                \n",
            "                                                                 conv5_1_1x1_proj/bn[0][0]        \n",
            "__________________________________________________________________________________________________\n",
            "activation_70 (Activation)      (None, 7, 7, 2048)   0           add_13[0][0]                     \n",
            "__________________________________________________________________________________________________\n",
            "conv5_2_1x1_reduce (Conv2D)     (None, 7, 7, 512)    1048576     activation_70[0][0]              \n",
            "__________________________________________________________________________________________________\n",
            "conv5_2_1x1_reduce/bn (BatchNor (None, 7, 7, 512)    2048        conv5_2_1x1_reduce[0][0]         \n",
            "__________________________________________________________________________________________________\n",
            "activation_71 (Activation)      (None, 7, 7, 512)    0           conv5_2_1x1_reduce/bn[0][0]      \n",
            "__________________________________________________________________________________________________\n",
            "conv5_2_3x3 (Conv2D)            (None, 7, 7, 512)    2359296     activation_71[0][0]              \n",
            "__________________________________________________________________________________________________\n",
            "conv5_2_3x3/bn (BatchNormalizat (None, 7, 7, 512)    2048        conv5_2_3x3[0][0]                \n",
            "__________________________________________________________________________________________________\n",
            "activation_72 (Activation)      (None, 7, 7, 512)    0           conv5_2_3x3/bn[0][0]             \n",
            "__________________________________________________________________________________________________\n",
            "conv5_2_1x1_increase (Conv2D)   (None, 7, 7, 2048)   1048576     activation_72[0][0]              \n",
            "__________________________________________________________________________________________________\n",
            "conv5_2_1x1_increase/bn (BatchN (None, 7, 7, 2048)   8192        conv5_2_1x1_increase[0][0]       \n",
            "__________________________________________________________________________________________________\n",
            "global_average_pooling2d_14 (Gl (None, 2048)         0           conv5_2_1x1_increase/bn[0][0]    \n",
            "__________________________________________________________________________________________________\n",
            "reshape_14 (Reshape)            (None, 1, 1, 2048)   0           global_average_pooling2d_14[0][0]\n",
            "__________________________________________________________________________________________________\n",
            "conv5_2_1x1_down (Conv2D)       (None, 1, 1, 128)    262272      reshape_14[0][0]                 \n",
            "__________________________________________________________________________________________________\n",
            "activation_73 (Activation)      (None, 1, 1, 128)    0           conv5_2_1x1_down[0][0]           \n",
            "__________________________________________________________________________________________________\n",
            "conv5_2_1x1_up (Conv2D)         (None, 1, 1, 2048)   264192      activation_73[0][0]              \n",
            "__________________________________________________________________________________________________\n",
            "activation_74 (Activation)      (None, 1, 1, 2048)   0           conv5_2_1x1_up[0][0]             \n",
            "__________________________________________________________________________________________________\n",
            "multiply_14 (Multiply)          (None, 7, 7, 2048)   0           conv5_2_1x1_increase/bn[0][0]    \n",
            "                                                                 activation_74[0][0]              \n",
            "__________________________________________________________________________________________________\n",
            "add_14 (Add)                    (None, 7, 7, 2048)   0           multiply_14[0][0]                \n",
            "                                                                 activation_70[0][0]              \n",
            "__________________________________________________________________________________________________\n",
            "activation_75 (Activation)      (None, 7, 7, 2048)   0           add_14[0][0]                     \n",
            "__________________________________________________________________________________________________\n",
            "conv5_3_1x1_reduce (Conv2D)     (None, 7, 7, 512)    1048576     activation_75[0][0]              \n",
            "__________________________________________________________________________________________________\n",
            "conv5_3_1x1_reduce/bn (BatchNor (None, 7, 7, 512)    2048        conv5_3_1x1_reduce[0][0]         \n",
            "__________________________________________________________________________________________________\n",
            "activation_76 (Activation)      (None, 7, 7, 512)    0           conv5_3_1x1_reduce/bn[0][0]      \n",
            "__________________________________________________________________________________________________\n",
            "conv5_3_3x3 (Conv2D)            (None, 7, 7, 512)    2359296     activation_76[0][0]              \n",
            "__________________________________________________________________________________________________\n",
            "conv5_3_3x3/bn (BatchNormalizat (None, 7, 7, 512)    2048        conv5_3_3x3[0][0]                \n",
            "__________________________________________________________________________________________________\n",
            "activation_77 (Activation)      (None, 7, 7, 512)    0           conv5_3_3x3/bn[0][0]             \n",
            "__________________________________________________________________________________________________\n",
            "conv5_3_1x1_increase (Conv2D)   (None, 7, 7, 2048)   1048576     activation_77[0][0]              \n",
            "__________________________________________________________________________________________________\n",
            "conv5_3_1x1_increase/bn (BatchN (None, 7, 7, 2048)   8192        conv5_3_1x1_increase[0][0]       \n",
            "__________________________________________________________________________________________________\n",
            "global_average_pooling2d_15 (Gl (None, 2048)         0           conv5_3_1x1_increase/bn[0][0]    \n",
            "__________________________________________________________________________________________________\n",
            "reshape_15 (Reshape)            (None, 1, 1, 2048)   0           global_average_pooling2d_15[0][0]\n",
            "__________________________________________________________________________________________________\n",
            "conv5_3_1x1_down (Conv2D)       (None, 1, 1, 128)    262272      reshape_15[0][0]                 \n",
            "__________________________________________________________________________________________________\n",
            "activation_78 (Activation)      (None, 1, 1, 128)    0           conv5_3_1x1_down[0][0]           \n",
            "__________________________________________________________________________________________________\n",
            "conv5_3_1x1_up (Conv2D)         (None, 1, 1, 2048)   264192      activation_78[0][0]              \n",
            "__________________________________________________________________________________________________\n",
            "activation_79 (Activation)      (None, 1, 1, 2048)   0           conv5_3_1x1_up[0][0]             \n",
            "__________________________________________________________________________________________________\n",
            "multiply_15 (Multiply)          (None, 7, 7, 2048)   0           conv5_3_1x1_increase/bn[0][0]    \n",
            "                                                                 activation_79[0][0]              \n",
            "__________________________________________________________________________________________________\n",
            "add_15 (Add)                    (None, 7, 7, 2048)   0           multiply_15[0][0]                \n",
            "                                                                 activation_75[0][0]              \n",
            "__________________________________________________________________________________________________\n",
            "activation_80 (Activation)      (None, 7, 7, 2048)   0           add_15[0][0]                     \n",
            "__________________________________________________________________________________________________\n",
            "avg_pool (AveragePooling2D)     (None, 1, 1, 2048)   0           activation_80[0][0]              \n",
            "__________________________________________________________________________________________________\n",
            "global_average_pooling2d_16 (Gl (None, 2048)         0           avg_pool[0][0]                   \n",
            "__________________________________________________________________________________________________\n",
            "dense (Dense)                   (None, 1024)         2098176     global_average_pooling2d_16[0][0]\n",
            "__________________________________________________________________________________________________\n",
            "dense_1 (Dense)                 (None, 512)          524800      dense[0][0]                      \n",
            "__________________________________________________________________________________________________\n",
            "dense_2 (Dense)                 (None, 2)            1026        dense_1[0][0]                    \n",
            "==================================================================================================\n",
            "Total params: 28,716,146\n",
            "Trainable params: 28,663,026\n",
            "Non-trainable params: 53,120\n",
            "__________________________________________________________________________________________________\n",
            "time: 122 ms (started: 2021-02-08 22:06:15 +00:00)\n"
          ],
          "name": "stdout"
        }
      ]
    },
    {
      "cell_type": "markdown",
      "metadata": {
        "id": "5cA7GXrZtQs-"
      },
      "source": [
        "# Compile the model"
      ]
    },
    {
      "cell_type": "code",
      "metadata": {
        "colab": {
          "base_uri": "https://localhost:8080/"
        },
        "id": "DXUjFRxkY9as",
        "outputId": "2ff1f10f-bf4c-41f4-dac8-a82ac3216924"
      },
      "source": [
        "model.compile(\r\n",
        "    optimizer='adam',\r\n",
        "    loss='mean_squared_error',\r\n",
        "    metrics='MeanSquaredError')"
      ],
      "execution_count": 14,
      "outputs": [
        {
          "output_type": "stream",
          "text": [
            "time: 22.2 ms (started: 2021-02-08 22:25:52 +00:00)\n"
          ],
          "name": "stdout"
        }
      ]
    },
    {
      "cell_type": "markdown",
      "metadata": {
        "id": "ZRwAbP6wQdHO"
      },
      "source": [
        "# On the Fly Data Load"
      ]
    },
    {
      "cell_type": "code",
      "metadata": {
        "colab": {
          "base_uri": "https://localhost:8080/"
        },
        "id": "V_JeKtOLbBK1",
        "outputId": "abc4e39b-5527-43da-c6c8-3b3b6c046557"
      },
      "source": [
        "from keras.preprocessing.image import ImageDataGenerator\r\n",
        "import pandas as pd\r\n",
        "Trainingdf = pd.read_csv(\"/content/drive/MyDrive/CV/cv project/CV-Project/Aff-Wild/Training.csv\")"
      ],
      "execution_count": 12,
      "outputs": [
        {
          "output_type": "stream",
          "text": [
            "time: 1.92 ms (started: 2021-02-08 15:46:05 +00:00)\n"
          ],
          "name": "stdout"
        }
      ]
    },
    {
      "cell_type": "code",
      "metadata": {
        "colab": {
          "base_uri": "https://localhost:8080/"
        },
        "id": "8ohl2NsrN50Z",
        "outputId": "a6527e3e-fd63-47f2-a4d0-286ba9e82cda"
      },
      "source": [
        "training = Trainingdf.iloc[30000:45000]"
      ],
      "execution_count": 50,
      "outputs": [
        {
          "output_type": "stream",
          "text": [
            "time: 1.66 ms (started: 2021-02-08 10:41:01 +00:00)\n"
          ],
          "name": "stdout"
        }
      ]
    },
    {
      "cell_type": "code",
      "metadata": {
        "colab": {
          "base_uri": "https://localhost:8080/"
        },
        "id": "6Ax_9fllJ8nn",
        "outputId": "614757da-ad1f-44b4-91d2-e32aca98e5c3"
      },
      "source": [
        "# from sklearn.utils import shuffle\r\n",
        "# training = shuffle(training)"
      ],
      "execution_count": null,
      "outputs": [
        {
          "output_type": "stream",
          "text": [
            "time: 86.7 ms (started: 2021-02-06 21:04:18 +00:00)\n"
          ],
          "name": "stdout"
        }
      ]
    },
    {
      "cell_type": "markdown",
      "metadata": {
        "id": "bu8WW886Qkey"
      },
      "source": [
        "Loading Training Images"
      ]
    },
    {
      "cell_type": "code",
      "metadata": {
        "colab": {
          "base_uri": "https://localhost:8080/"
        },
        "id": "MrdDOCrTN0Ik",
        "outputId": "5a943950-693e-407d-f8b1-28abc9644f45"
      },
      "source": [
        "train_datagen = ImageDataGenerator(\r\n",
        "    rescale=1./255\r\n",
        "    ,validation_split=0.2) # set validation split"
      ],
      "execution_count": 51,
      "outputs": [
        {
          "output_type": "stream",
          "text": [
            "time: 1.68 ms (started: 2021-02-08 10:41:33 +00:00)\n"
          ],
          "name": "stdout"
        }
      ]
    },
    {
      "cell_type": "code",
      "metadata": {
        "colab": {
          "base_uri": "https://localhost:8080/"
        },
        "id": "a_n-Q0-qN4jD",
        "outputId": "8ea443c9-f21d-4b9d-8477-0bc14f893c00"
      },
      "source": [
        "train_generator = train_datagen.flow_from_dataframe(\r\n",
        "    training,\r\n",
        "    directory=None,\r\n",
        "    x_col=\"Image_Path\",\r\n",
        "    y_col=[\"Valence\",\"Arousal\"],\r\n",
        "    target_size=(img_width, img_height),\r\n",
        "    color_mode=\"rgb\",\r\n",
        "    class_mode=\"raw\",\r\n",
        "    batch_size=batch_size,\r\n",
        "    shuffle=True,\r\n",
        "    seed=11,\r\n",
        "    subset=\"training\"\r\n",
        "    # interpolation=\"nearest\",\r\n",
        ")"
      ],
      "execution_count": 52,
      "outputs": [
        {
          "output_type": "stream",
          "text": [
            "Found 12000 validated image filenames.\n",
            "time: 55min 18s (started: 2021-02-08 10:41:38 +00:00)\n"
          ],
          "name": "stdout"
        }
      ]
    },
    {
      "cell_type": "markdown",
      "metadata": {
        "id": "nE4abYW0Qke1"
      },
      "source": [
        "Loading Validation images"
      ]
    },
    {
      "cell_type": "code",
      "metadata": {
        "colab": {
          "base_uri": "https://localhost:8080/"
        },
        "id": "284I9J-2N7j3",
        "outputId": "99bbd2a2-958d-4284-ebb8-9b781a4412d2"
      },
      "source": [
        "validation_generator = train_datagen.flow_from_dataframe(\r\n",
        "    training,\r\n",
        "    directory=None,\r\n",
        "    x_col=\"Image_Path\",\r\n",
        "    y_col=[\"Valence\",\"Arousal\"],\r\n",
        "    target_size=(img_width, img_height),\r\n",
        "    color_mode=\"rgb\",\r\n",
        "    class_mode=\"raw\",\r\n",
        "    batch_size=batch_size,\r\n",
        "    shuffle=True,\r\n",
        "    seed=11,\r\n",
        "    subset=\"validation\"\r\n",
        "    # interpolation=\"nearest\",\r\n",
        ")"
      ],
      "execution_count": 53,
      "outputs": [
        {
          "output_type": "stream",
          "text": [
            "Found 3000 validated image filenames.\n",
            "time: 7.61 s (started: 2021-02-08 11:36:57 +00:00)\n"
          ],
          "name": "stdout"
        }
      ]
    },
    {
      "cell_type": "markdown",
      "metadata": {
        "id": "QkW5A7uBMlcn"
      },
      "source": [
        "# **Save Path for the outputs**"
      ]
    },
    {
      "cell_type": "code",
      "metadata": {
        "id": "-_8ejWoww8pb",
        "colab": {
          "base_uri": "https://localhost:8080/"
        },
        "outputId": "6933397f-d1ab-4f14-eb14-05034bbcab87"
      },
      "source": [
        "save_path = '/content/drive/MyDrive/CV/cv project/CV-Project/Aff-Wild/TransferLearningOutputs/'+model_name"
      ],
      "execution_count": 8,
      "outputs": [
        {
          "output_type": "stream",
          "text": [
            "time: 1.3 ms (started: 2021-02-08 22:21:40 +00:00)\n"
          ],
          "name": "stdout"
        }
      ]
    },
    {
      "cell_type": "markdown",
      "metadata": {
        "id": "kMtlLMlmtWrz"
      },
      "source": [
        "# Train the model"
      ]
    },
    {
      "cell_type": "code",
      "metadata": {
        "colab": {
          "base_uri": "https://localhost:8080/"
        },
        "id": "_tlHmMoS8OJw",
        "outputId": "1e2cf564-0c13-4eaf-d4c7-216b4caf47fb"
      },
      "source": [
        "from keras.callbacks import ModelCheckpoint, EarlyStopping"
      ],
      "execution_count": 55,
      "outputs": [
        {
          "output_type": "stream",
          "text": [
            "time: 1.66 ms (started: 2021-02-08 11:37:05 +00:00)\n"
          ],
          "name": "stdout"
        }
      ]
    },
    {
      "cell_type": "code",
      "metadata": {
        "colab": {
          "base_uri": "https://localhost:8080/"
        },
        "id": "XF5VsOx1HDAm",
        "outputId": "1f1da550-027b-469c-e35d-27febb3840ad"
      },
      "source": [
        "# patient early stopping \r\n",
        "es = EarlyStopping(monitor='mean_squared_error', mode='min', verbose=1, patience=patience_val)\r\n",
        "mc = ModelCheckpoint(save_path+'/best_model.h5', monitor='val_mean_squared_error', mode='min', verbose=1, save_best_only=True)"
      ],
      "execution_count": 56,
      "outputs": [
        {
          "output_type": "stream",
          "text": [
            "time: 3.38 ms (started: 2021-02-08 11:37:05 +00:00)\n"
          ],
          "name": "stdout"
        }
      ]
    },
    {
      "cell_type": "code",
      "metadata": {
        "id": "vj0dLzl4wi8l"
      },
      "source": [
        "H = model.fit(\r\n",
        "    train_generator,\r\n",
        "    steps_per_epoch = train_generator.samples // batch_size,\r\n",
        "    validation_data = validation_generator, \r\n",
        "    validation_steps = validation_generator.samples // batch_size,\r\n",
        "    epochs = nb_epochs\r\n",
        "    , callbacks= [es , mc]\r\n",
        "    )"
      ],
      "execution_count": null,
      "outputs": []
    },
    {
      "cell_type": "markdown",
      "metadata": {
        "id": "lwELP13hVTXd"
      },
      "source": [
        "# Saving Model Weights and History"
      ]
    },
    {
      "cell_type": "markdown",
      "metadata": {
        "id": "R5iKVyLTOLdg"
      },
      "source": [
        "Saving Model weights"
      ]
    },
    {
      "cell_type": "code",
      "metadata": {
        "id": "ZG7sPAhgLSd2"
      },
      "source": [
        "# save the model's trained weights\r\n",
        "model.save_weights(save_path+\"/_transferOnwards_trained_wts.h5\")"
      ],
      "execution_count": null,
      "outputs": []
    },
    {
      "cell_type": "code",
      "metadata": {
        "id": "tU14ChuTwU78",
        "colab": {
          "base_uri": "https://localhost:8080/"
        },
        "outputId": "2ff9bd00-ada0-4b8f-b7a1-54d0383f10e0"
      },
      "source": [
        "model.load_weights(save_path+'/best_model.h5')"
      ],
      "execution_count": 15,
      "outputs": [
        {
          "output_type": "stream",
          "text": [
            "time: 3.41 s (started: 2021-02-08 22:26:01 +00:00)\n"
          ],
          "name": "stdout"
        }
      ]
    },
    {
      "cell_type": "markdown",
      "metadata": {
        "id": "04nKAd4LUltm"
      },
      "source": [
        "Saving History"
      ]
    },
    {
      "cell_type": "code",
      "metadata": {
        "id": "W_Pc79CAUdjF",
        "colab": {
          "base_uri": "https://localhost:8080/"
        },
        "outputId": "ad3d6ab3-2d5c-4a3d-e973-3836d8216dc5"
      },
      "source": [
        "import pickle\r\n",
        "with open(save_path+'/historyOnwards', 'wb') as file_pi:\r\n",
        "        pickle.dump(H.history, file_pi)"
      ],
      "execution_count": 67,
      "outputs": [
        {
          "output_type": "stream",
          "text": [
            "time: 10.4 ms (started: 2021-02-08 03:51:56 +00:00)\n"
          ],
          "name": "stdout"
        }
      ]
    },
    {
      "cell_type": "markdown",
      "metadata": {
        "id": "KqadLWcWUY94"
      },
      "source": [
        "Loading history"
      ]
    },
    {
      "cell_type": "code",
      "metadata": {
        "id": "dDSrBVkeUXvI",
        "colab": {
          "base_uri": "https://localhost:8080/"
        },
        "outputId": "affddbce-9fc3-4910-e4e8-e14b142dd6e1"
      },
      "source": [
        "import pickle\r\n",
        "dbfile = open(save_path+'/historyOnwards', 'rb')      \r\n",
        "db = pickle.load(dbfile) \r\n",
        "for keys in db: \r\n",
        "    print(keys, '=>', db[keys]) \r\n",
        "dbfile.close()"
      ],
      "execution_count": 18,
      "outputs": [
        {
          "output_type": "stream",
          "text": [
            "loss => [0.04679543152451515, 0.024569135159254074, 0.015386582352221012, 0.010194397531449795, 0.007684153970330954, 0.006026922259479761, 0.00520642613992095, 0.004637696780264378, 0.004313797224313021, 0.004400851204991341, 0.004419731441885233, 0.004343884997069836, 0.004504275042563677, 0.004831303842365742, 0.004079327452927828, 0.003592499066144228, 0.0033954414539039135, 0.0030229396652430296, 0.002837542211636901, 0.0029721215832978487, 0.005830069072544575, 0.004892606288194656, 0.003031548112630844, 0.0021014148369431496, 0.0018459121929481626, 0.0017080315155908465, 0.0018062522867694497, 0.002073960844427347, 0.001928144134581089, 0.002002279506996274, 0.0025423706974834204, 0.007739166263490915]\n",
            "mean_squared_error => [0.04679543152451515, 0.024569135159254074, 0.015386582352221012, 0.010194397531449795, 0.007684153970330954, 0.006026922259479761, 0.00520642613992095, 0.004637696780264378, 0.004313797224313021, 0.004400851204991341, 0.004419731441885233, 0.004343884997069836, 0.004504275042563677, 0.004831303842365742, 0.004079327452927828, 0.003592499066144228, 0.0033954414539039135, 0.0030229396652430296, 0.002837542211636901, 0.0029721215832978487, 0.005830069072544575, 0.004892606288194656, 0.003031548112630844, 0.0021014148369431496, 0.0018459121929481626, 0.0017080315155908465, 0.0018062522867694497, 0.002073960844427347, 0.001928144134581089, 0.002002279506996274, 0.0025423706974834204, 0.007739166263490915]\n",
            "val_loss => [0.04289688169956207, 0.03520386293530464, 0.03210091218352318, 0.028937658295035362, 0.028985610231757164, 0.02843444235622883, 0.028442976996302605, 0.027134688571095467, 0.027745267376303673, 0.028485603630542755, 0.028963271528482437, 0.0291830413043499, 0.0285938810557127, 0.0295877568423748, 0.028879545629024506, 0.029559271410107613, 0.02829079143702984, 0.028142055496573448, 0.027952473610639572, 0.029854217544198036, 0.03436146676540375, 0.030193256214261055, 0.029751332476735115, 0.028297344222664833, 0.027768360450863838, 0.027845319360494614, 0.029097605496644974, 0.028654795140028, 0.028247548267245293, 0.029576841741800308, 0.029481779783964157, 0.038114652037620544]\n",
            "val_mean_squared_error => [0.04289688169956207, 0.03520386293530464, 0.03210091218352318, 0.028937658295035362, 0.028985610231757164, 0.02843444235622883, 0.028442976996302605, 0.027134688571095467, 0.027745267376303673, 0.028485603630542755, 0.028963271528482437, 0.0291830413043499, 0.0285938810557127, 0.0295877568423748, 0.028879545629024506, 0.029559271410107613, 0.02829079143702984, 0.028142055496573448, 0.027952473610639572, 0.029854217544198036, 0.03436146676540375, 0.030193256214261055, 0.029751332476735115, 0.028297344222664833, 0.027768360450863838, 0.027845319360494614, 0.029097605496644974, 0.028654795140028, 0.028247548267245293, 0.029576841741800308, 0.029481779783964157, 0.038114652037620544]\n",
            "time: 322 ms (started: 2021-02-08 09:34:37 +00:00)\n"
          ],
          "name": "stdout"
        }
      ]
    },
    {
      "cell_type": "markdown",
      "metadata": {
        "id": "CM_kF4b4NmEr"
      },
      "source": [
        "# Some Graphs"
      ]
    },
    {
      "cell_type": "code",
      "metadata": {
        "id": "bdmE74w__orW"
      },
      "source": [
        "db[\"mean_squared_error\"]"
      ],
      "execution_count": null,
      "outputs": []
    },
    {
      "cell_type": "code",
      "metadata": {
        "id": "3g0_qO1l3i4M",
        "colab": {
          "base_uri": "https://localhost:8080/",
          "height": 313
        },
        "outputId": "ab251e7f-2239-45d8-964a-33f81ae5b715"
      },
      "source": [
        "# simple_acc = H.history['mean_squared_error']\r\n",
        "\r\n",
        "simple_acc = db['mean_squared_error']\r\n",
        "plt.plot([acc for acc in simple_acc])\r\n",
        "plt.title('Train Accuracy for '+ model_name)\r\n",
        "plt.ylabel('Mean Squared Error on Training')\r\n",
        "plt.xlabel('Epoch')\r\n",
        "plt.savefig(save_path+'/Train_Acc.png')\r\n",
        "plt.show()"
      ],
      "execution_count": 27,
      "outputs": [
        {
          "output_type": "display_data",
          "data": {
            "image/png": "[encoded data removed]",
            "text/plain": [
              "<Figure size 432x288 with 1 Axes>"
            ]
          },
          "metadata": {
            "tags": [],
            "needs_background": "light"
          }
        },
        {
          "output_type": "stream",
          "text": [
            "time: 271 ms (started: 2021-02-08 09:36:57 +00:00)\n"
          ],
          "name": "stdout"
        }
      ]
    },
    {
      "cell_type": "code",
      "metadata": {
        "id": "WAXTq7ctxm4X",
        "colab": {
          "base_uri": "https://localhost:8080/",
          "height": 313
        },
        "outputId": "e67118e5-fbd3-4abf-a520-ddc59ed96feb"
      },
      "source": [
        "# simple_val_acc = H.history['val_mean_squared_error']\r\n",
        "simple_val_acc = db['val_mean_squared_error']\r\n",
        "plt.plot([acc for acc in simple_val_acc])\r\n",
        "plt.title('Validation Accuracy for'+ model_name)\r\n",
        "plt.ylabel('Validation Mean squared error')\r\n",
        "plt.xlabel('Epoch')\r\n",
        "plt.savefig(save_path+'/Validation_Acc.png')\r\n",
        "plt.show()"
      ],
      "execution_count": 28,
      "outputs": [
        {
          "output_type": "display_data",
          "data": {
            "image/png": "[encoded data removed]",
            "text/plain": [
              "<Figure size 432x288 with 1 Axes>"
            ]
          },
          "metadata": {
            "tags": [],
            "needs_background": "light"
          }
        },
        {
          "output_type": "stream",
          "text": [
            "time: 274 ms (started: 2021-02-08 09:37:21 +00:00)\n"
          ],
          "name": "stdout"
        }
      ]
    },
    {
      "cell_type": "code",
      "metadata": {
        "id": "DVXSGaYb4RhQ",
        "colab": {
          "base_uri": "https://localhost:8080/",
          "height": 313
        },
        "outputId": "8a8f6b03-51da-44e2-d701-264a762c2fb4"
      },
      "source": [
        "# simple_loss = H.history['loss']\r\n",
        "simple_loss = db['loss']\r\n",
        "plt.plot([los for los in simple_loss])\r\n",
        "plt.title('Train Loss for '+ model_name)\r\n",
        "plt.ylabel('Train Loss')\r\n",
        "plt.xlabel('Epoch')\r\n",
        "plt.savefig(save_path+'/Train_loss.png')\r\n",
        "plt.show()"
      ],
      "execution_count": 29,
      "outputs": [
        {
          "output_type": "display_data",
          "data": {
            "image/png": "[encoded data removed]",
            "text/plain": [
              "<Figure size 432x288 with 1 Axes>"
            ]
          },
          "metadata": {
            "tags": [],
            "needs_background": "light"
          }
        },
        {
          "output_type": "stream",
          "text": [
            "time: 227 ms (started: 2021-02-08 09:37:35 +00:00)\n"
          ],
          "name": "stdout"
        }
      ]
    },
    {
      "cell_type": "code",
      "metadata": {
        "id": "F3nMZPYl47M7"
      },
      "source": [
        "simple_val_loss = H.history['val_loss']\r\n",
        "plt.plot([los for los in simple_val_loss])\r\n",
        "plt.title('Validation Loss for '+ model_name)\r\n",
        "plt.ylabel('Validation Loss')\r\n",
        "plt.xlabel('Epoch')\r\n",
        "plt.savefig(save_path+'/Validation_Loss.png')\r\n",
        "plt.show()"
      ],
      "execution_count": null,
      "outputs": []
    },
    {
      "cell_type": "markdown",
      "metadata": {
        "id": "wrUqMWMfPlCM"
      },
      "source": [
        "Loss/Error Graphs"
      ]
    },
    {
      "cell_type": "code",
      "metadata": {
        "id": "R12z8-_WNeiZ",
        "colab": {
          "base_uri": "https://localhost:8080/",
          "height": 247
        },
        "outputId": "1e8fd71a-f197-46ea-a174-5107ed01a926"
      },
      "source": [
        "fig, axis = plt.subplots(1, 2, figsize=(20, 4))\r\n",
        "\r\n",
        "\r\n",
        "axis[0].plot(db['mean_squared_error'],\r\n",
        "         label='Train mean squared error',\r\n",
        "         c='tomato', ls='-')\r\n",
        "axis[0].plot(db['val_mean_squared_error'],\r\n",
        "         label='Validation mean squared error',\r\n",
        "         c='magenta', ls='-')\r\n",
        "\r\n",
        "axis[0].set_xlabel('Epoch')\r\n",
        "axis[0].set_ylabel('Accuracy')\r\n",
        "axis[0].legend(loc='upper left')\r\n",
        "\r\n",
        "\r\n",
        "axis[1].plot(db['loss'],\r\n",
        "         label='Train loss',\r\n",
        "         c='tomato', ls='-')\r\n",
        "axis[1].plot(db['val_loss'],\r\n",
        "         label='Validation loss',\r\n",
        "         c='magenta', ls='-')\r\n",
        "\r\n",
        "axis[1].set_xlabel('Epoch')\r\n",
        "axis[1].set_ylabel('loss')\r\n",
        "axis[1].legend(loc='upper left')\r\n",
        "plt.savefig(save_path+'/simple_Validation_error&loss.png')\r\n",
        "plt.show()"
      ],
      "execution_count": 30,
      "outputs": [
        {
          "output_type": "display_data",
          "data": {
            "image/png": "[encoded data removed]",
            "text/plain": [
              "<Figure size 1440x288 with 2 Axes>"
            ]
          },
          "metadata": {
            "tags": [],
            "needs_background": "light"
          }
        },
        {
          "output_type": "stream",
          "text": [
            "time: 491 ms (started: 2021-02-08 09:37:55 +00:00)\n"
          ],
          "name": "stdout"
        }
      ]
    },
    {
      "cell_type": "markdown",
      "metadata": {
        "id": "1w5D8lZLOn00"
      },
      "source": [
        "# Testing"
      ]
    },
    {
      "cell_type": "markdown",
      "metadata": {
        "id": "EU5_X2BAXGi3"
      },
      "source": [
        "On the fly load"
      ]
    },
    {
      "cell_type": "code",
      "metadata": {
        "colab": {
          "base_uri": "https://localhost:8080/"
        },
        "id": "s3pdsc1y_GpL",
        "outputId": "427d42fa-c364-46c3-abc6-cfde546d354f"
      },
      "source": [
        "import pandas as pd\r\n",
        "from keras.preprocessing.image import ImageDataGenerator\r\n",
        "\r\n",
        "Testingdf = pd.read_csv(\"/content/drive/MyDrive/CV/cv project/CV-Project/Aff-Wild/Testing.csv\")\r\n",
        "testing = Testingdf.tail(5000)\r\n",
        "test_datagen = ImageDataGenerator(rescale=1. / 255)"
      ],
      "execution_count": 18,
      "outputs": [
        {
          "output_type": "stream",
          "text": [
            "time: 143 ms (started: 2021-02-08 22:33:11 +00:00)\n"
          ],
          "name": "stdout"
        }
      ]
    },
    {
      "cell_type": "code",
      "metadata": {
        "id": "D3ZpAynsXCNa",
        "colab": {
          "base_uri": "https://localhost:8080/"
        },
        "outputId": "d166f2d1-99ee-4847-91cb-5e6b1c3e19b4"
      },
      "source": [
        "test_generator = test_datagen.flow_from_dataframe(\r\n",
        "    testing,\r\n",
        "    directory=None,\r\n",
        "    x_col=\"Image_Path\",\r\n",
        "    y_col=[\"Valence\",\"Arousal\"],\r\n",
        "    target_size=(img_width, img_height),\r\n",
        "    color_mode=\"rgb\",\r\n",
        "    shuffle = False,\r\n",
        "    class_mode=\"raw\"\r\n",
        ")"
      ],
      "execution_count": 20,
      "outputs": [
        {
          "output_type": "stream",
          "text": [
            "Found 5000 validated image filenames.\n",
            "time: 1.81 s (started: 2021-02-08 22:46:17 +00:00)\n"
          ],
          "name": "stdout"
        }
      ]
    },
    {
      "cell_type": "markdown",
      "metadata": {
        "id": "R8aMpZyWPUg6"
      },
      "source": [
        "Testing Model"
      ]
    },
    {
      "cell_type": "code",
      "metadata": {
        "colab": {
          "base_uri": "https://localhost:8080/"
        },
        "id": "wGFUe4rz91T_",
        "outputId": "112dc3ca-344e-47d0-d6c1-95b59900133b"
      },
      "source": [
        "score = model.evaluate(test_generator, batch_size=batch_size)"
      ],
      "execution_count": 34,
      "outputs": [
        {
          "output_type": "stream",
          "text": [
            "157/157 [==============================] - 2385s 15s/step - loss: 0.1381 - mean_squared_error: 0.1381\n",
            "time: 40min 1s (started: 2021-02-08 09:47:38 +00:00)\n"
          ],
          "name": "stdout"
        }
      ]
    },
    {
      "cell_type": "code",
      "metadata": {
        "colab": {
          "base_uri": "https://localhost:8080/"
        },
        "id": "AA9dMbSlAM1z",
        "outputId": "586044e7-2906-47ca-f97a-e0069b6446e6"
      },
      "source": [
        "import pickle\r\n",
        "with open(save_path+'/score', 'wb') as file_pi:\r\n",
        "        pickle.dump(score, file_pi)"
      ],
      "execution_count": 35,
      "outputs": [
        {
          "output_type": "stream",
          "text": [
            "time: 10.8 ms (started: 2021-02-08 10:27:40 +00:00)\n"
          ],
          "name": "stdout"
        }
      ]
    },
    {
      "cell_type": "code",
      "metadata": {
        "colab": {
          "base_uri": "https://localhost:8080/"
        },
        "id": "U3m4F2q6A0jd",
        "outputId": "848ab744-73f9-43c2-84db-ae1e959fd1d7"
      },
      "source": [
        "print('Test Mean Squared Error = ', score[0])\r\n",
        "print('Test Accuracy = ', score[1])"
      ],
      "execution_count": 37,
      "outputs": [
        {
          "output_type": "stream",
          "text": [
            "Test Mean Squared Error =  0.14309529960155487\n",
            "Test Accuracy =  0.14309529960155487\n",
            "time: 5.43 ms (started: 2021-02-08 10:27:40 +00:00)\n"
          ],
          "name": "stdout"
        }
      ]
    },
    {
      "cell_type": "code",
      "metadata": {
        "id": "13xE9yTDdm4O",
        "colab": {
          "base_uri": "https://localhost:8080/"
        },
        "outputId": "fbcd2306-3980-4f03-9625-89b4ec7186a9"
      },
      "source": [
        "# GET Concordance Correlation Coefficient\r\n",
        "prediction = model.predict(test_generator)"
      ],
      "execution_count": 21,
      "outputs": [
        {
          "output_type": "stream",
          "text": [
            "time: 38min 59s (started: 2021-02-08 22:46:38 +00:00)\n"
          ],
          "name": "stdout"
        }
      ]
    },
    {
      "cell_type": "code",
      "metadata": {
        "colab": {
          "base_uri": "https://localhost:8080/"
        },
        "id": "jrNBTKrjGfvF",
        "outputId": "a0c87813-4194-43f1-da8e-5e078774f705"
      },
      "source": [
        "with open(save_path+'/predictions', 'wb') as file_pi:\r\n",
        "        pickle.dump(prediction, file_pi)"
      ],
      "execution_count": 22,
      "outputs": [
        {
          "output_type": "stream",
          "text": [
            "time: 7.3 ms (started: 2021-02-08 23:25:37 +00:00)\n"
          ],
          "name": "stdout"
        }
      ]
    },
    {
      "cell_type": "code",
      "metadata": {
        "colab": {
          "base_uri": "https://localhost:8080/"
        },
        "id": "V1CJ0r_Du3ir",
        "outputId": "11fdedd0-7485-407e-8fd7-93a93d0d2ad7"
      },
      "source": [
        "import pickle\r\n",
        "dbfile = open(save_path+'/predictions', 'rb')      \r\n",
        "prediction = pickle.load(dbfile) "
      ],
      "execution_count": 10,
      "outputs": [
        {
          "output_type": "stream",
          "text": [
            "time: 350 ms (started: 2021-02-08 22:23:47 +00:00)\n"
          ],
          "name": "stdout"
        }
      ]
    },
    {
      "cell_type": "code",
      "metadata": {
        "colab": {
          "base_uri": "https://localhost:8080/"
        },
        "id": "OTNJ1CE8d_-f",
        "outputId": "d78ec068-b7a7-4ac3-e510-0006a9e72c04"
      },
      "source": [
        "sample = 96\r\n",
        "prediction_v = prediction[sample,0]\r\n",
        "prediction_a = prediction[sample,1]\r\n",
        "print(prediction_v, prediction_a)"
      ],
      "execution_count": 48,
      "outputs": [
        {
          "output_type": "stream",
          "text": [
            "0.23642828 0.22228101\n",
            "time: 2.3 ms (started: 2021-02-08 23:46:05 +00:00)\n"
          ],
          "name": "stdout"
        }
      ]
    },
    {
      "cell_type": "code",
      "metadata": {
        "colab": {
          "base_uri": "https://localhost:8080/"
        },
        "id": "OmnhGW5Nd9hY",
        "outputId": "d2bf4b2c-84d8-4310-b640-ea2d24ac25ad"
      },
      "source": [
        "if prediction_v >= -0.5 and prediction_v <= 0.5 and prediction_a <= -0.66:\r\n",
        "    print(\"focus\")\r\n",
        "elif prediction_v >= -0.2 and prediction_a >= -0.66 and prediction_a <= 0:\r\n",
        "    print(\"relaxation\")\r\n",
        "elif prediction_v <= 0 and prediction_a <= 0:\r\n",
        "    print(\"stress\")\r\n",
        "elif prediction_v >= 0 and prediction_v <= 0.4 and prediction_a >= 0 and prediction_a <= 0.4:\r\n",
        "    print(\"interest\")\r\n",
        "elif (prediction_v >= 0 and prediction_v <= 0.7 and prediction_a >= 0.4 and prediction_a <= 0.7 or\r\n",
        "      prediction_v >= 0.4 and prediction_v <= 0.7 and prediction_a >= 0 and prediction_a <= 0.4 or\r\n",
        "      prediction_v >= 0.7 and prediction_v <= 1 and prediction_a >= 0 and prediction_a <= 1):\r\n",
        "    print(\"engagement\")\r\n",
        "elif prediction_v >= 0 and prediction_v <= 1 and prediction_a >= 0.7 and prediction_a <= 1:\r\n",
        "    print(\"excitement\")\r\n",
        "else:\r\n",
        "    print(\"Cannot determine emotion\")"
      ],
      "execution_count": 41,
      "outputs": [
        {
          "output_type": "stream",
          "text": [
            "interest\n",
            "time: 6.96 ms (started: 2021-02-08 23:43:55 +00:00)\n"
          ],
          "name": "stdout"
        }
      ]
    },
    {
      "cell_type": "code",
      "metadata": {
        "colab": {
          "base_uri": "https://localhost:8080/"
        },
        "id": "LAKlM2kKegxt",
        "outputId": "71437504-e968-4e6a-9d9f-b42481745d18"
      },
      "source": [
        "label_v = test_generator.labels[sample,0]\r\n",
        "label_a = test_generator.labels[sample,1]\r\n",
        "print(label_v, label_a)"
      ],
      "execution_count": 47,
      "outputs": [
        {
          "output_type": "stream",
          "text": [
            "0.0 0.196\n",
            "time: 1.34 ms (started: 2021-02-08 23:45:51 +00:00)\n"
          ],
          "name": "stdout"
        }
      ]
    },
    {
      "cell_type": "code",
      "metadata": {
        "colab": {
          "base_uri": "https://localhost:8080/"
        },
        "id": "vqOrsraeeX2U",
        "outputId": "e3f1fee3-6b50-4fc9-cb8c-eed770b7452a"
      },
      "source": [
        "if label_v >= -0.5 and label_v <= 0.5 and label_a <= -0.66:\r\n",
        "    print(\"focus\")\r\n",
        "elif label_v >= -0.2 and label_a >= -0.66 and label_a <= 0:\r\n",
        "    print(\"relaxation\")\r\n",
        "elif label_v <= 0 and label_a <= 0:\r\n",
        "    print(\"stress\")\r\n",
        "elif label_v >= 0 and label_v <= 0.4 and label_a >= 0 and label_a <= 0.4:\r\n",
        "    print(\"interest\")\r\n",
        "elif (label_v >= 0 and label_v <= 0.7 and label_a >= 0.4 and label_a <= 0.7 or\r\n",
        "      label_v >= 0.4 and label_v <= 0.7 and label_a >= 0 and label_a <= 0.4 or\r\n",
        "      label_v >= 0.7 and label_v <= 1 and label_a >= 0 and label_a <= 1):\r\n",
        "    print(\"engagement\")\r\n",
        "elif label_v >= 0 and label_v <= 1 and label_a >= 0.7 and label_a <= 1:\r\n",
        "    print(\"excitement\")\r\n",
        "else:\r\n",
        "    print(\"Cannot determine emotion\")"
      ],
      "execution_count": 46,
      "outputs": [
        {
          "output_type": "stream",
          "text": [
            "interest\n",
            "time: 6.37 ms (started: 2021-02-08 23:45:25 +00:00)\n"
          ],
          "name": "stdout"
        }
      ]
    },
    {
      "cell_type": "code",
      "metadata": {
        "id": "mglYM2nKCQ86"
      },
      "source": [
        ""
      ],
      "execution_count": null,
      "outputs": []
    }
  ]
}